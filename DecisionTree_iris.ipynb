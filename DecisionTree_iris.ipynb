{
  "nbformat": 4,
  "nbformat_minor": 0,
  "metadata": {
    "colab": {
      "name": "DecisionTree_iris.ipynb",
      "provenance": [],
      "collapsed_sections": []
    },
    "kernelspec": {
      "name": "python3",
      "display_name": "Python 3"
    },
    "language_info": {
      "name": "python"
    }
  },
  "cells": [
    {
      "cell_type": "markdown",
      "metadata": {
        "id": "FUv9BPDGDS-c"
      },
      "source": [
        "# **THE SPARKS FOUNDATION**"
      ]
    },
    {
      "cell_type": "markdown",
      "metadata": {
        "id": "mDoZeGLIDE5F"
      },
      "source": [
        "## **Name: Priyanka Sankannawar**"
      ]
    },
    {
      "cell_type": "markdown",
      "metadata": {
        "id": "Vgajn26EDEjx"
      },
      "source": [
        "**Task 6: Prediction using Decision Tree Algorithm**"
      ]
    },
    {
      "cell_type": "code",
      "metadata": {
        "id": "lvEV06PumXjr"
      },
      "source": [
        "#importing libraries\n",
        "import numpy as np\n",
        "import pandas as pd\n",
        "import matplotlib.pyplot as plt"
      ],
      "execution_count": null,
      "outputs": []
    },
    {
      "cell_type": "code",
      "metadata": {
        "colab": {
          "base_uri": "https://localhost:8080/"
        },
        "id": "tTGlWCDhCTS1",
        "outputId": "2548140c-8daf-46ef-8c5d-84b383458ec5"
      },
      "source": [
        "#mounting datasets\n",
        "from google.colab import drive\n",
        "drive.mount('/content/drive')"
      ],
      "execution_count": null,
      "outputs": [
        {
          "output_type": "stream",
          "text": [
            "Mounted at /content/drive\n"
          ],
          "name": "stdout"
        }
      ]
    },
    {
      "cell_type": "code",
      "metadata": {
        "id": "TR2PeAHMCerU"
      },
      "source": [
        "#importing datasets\n",
        "dataset = pd.read_csv('/content/drive/MyDrive/dataset/Iris.csv',encoding='utf-8')"
      ],
      "execution_count": null,
      "outputs": []
    },
    {
      "cell_type": "code",
      "metadata": {
        "colab": {
          "base_uri": "https://localhost:8080/"
        },
        "id": "QFVU2bpSC_XP",
        "outputId": "e6273818-83fb-43cb-f31a-5f53bafb74f3"
      },
      "source": [
        "dataset.info()"
      ],
      "execution_count": null,
      "outputs": [
        {
          "output_type": "stream",
          "text": [
            "<class 'pandas.core.frame.DataFrame'>\n",
            "RangeIndex: 150 entries, 0 to 149\n",
            "Data columns (total 6 columns):\n",
            " #   Column         Non-Null Count  Dtype  \n",
            "---  ------         --------------  -----  \n",
            " 0   Id             150 non-null    int64  \n",
            " 1   SepalLengthCm  150 non-null    float64\n",
            " 2   SepalWidthCm   150 non-null    float64\n",
            " 3   PetalLengthCm  150 non-null    float64\n",
            " 4   PetalWidthCm   150 non-null    float64\n",
            " 5   Species        150 non-null    object \n",
            "dtypes: float64(4), int64(1), object(1)\n",
            "memory usage: 7.2+ KB\n"
          ],
          "name": "stdout"
        }
      ]
    },
    {
      "cell_type": "code",
      "metadata": {
        "colab": {
          "base_uri": "https://localhost:8080/",
          "height": 195
        },
        "id": "ZJ_XULKMDuSh",
        "outputId": "de06e82f-c043-4bbf-acba-9673ad42a72a"
      },
      "source": [
        "dataset.head()"
      ],
      "execution_count": null,
      "outputs": [
        {
          "output_type": "execute_result",
          "data": {
            "text/html": [
              "<div>\n",
              "<style scoped>\n",
              "    .dataframe tbody tr th:only-of-type {\n",
              "        vertical-align: middle;\n",
              "    }\n",
              "\n",
              "    .dataframe tbody tr th {\n",
              "        vertical-align: top;\n",
              "    }\n",
              "\n",
              "    .dataframe thead th {\n",
              "        text-align: right;\n",
              "    }\n",
              "</style>\n",
              "<table border=\"1\" class=\"dataframe\">\n",
              "  <thead>\n",
              "    <tr style=\"text-align: right;\">\n",
              "      <th></th>\n",
              "      <th>Id</th>\n",
              "      <th>SepalLengthCm</th>\n",
              "      <th>SepalWidthCm</th>\n",
              "      <th>PetalLengthCm</th>\n",
              "      <th>PetalWidthCm</th>\n",
              "      <th>Species</th>\n",
              "    </tr>\n",
              "  </thead>\n",
              "  <tbody>\n",
              "    <tr>\n",
              "      <th>0</th>\n",
              "      <td>1</td>\n",
              "      <td>5.1</td>\n",
              "      <td>3.5</td>\n",
              "      <td>1.4</td>\n",
              "      <td>0.2</td>\n",
              "      <td>Iris-setosa</td>\n",
              "    </tr>\n",
              "    <tr>\n",
              "      <th>1</th>\n",
              "      <td>2</td>\n",
              "      <td>4.9</td>\n",
              "      <td>3.0</td>\n",
              "      <td>1.4</td>\n",
              "      <td>0.2</td>\n",
              "      <td>Iris-setosa</td>\n",
              "    </tr>\n",
              "    <tr>\n",
              "      <th>2</th>\n",
              "      <td>3</td>\n",
              "      <td>4.7</td>\n",
              "      <td>3.2</td>\n",
              "      <td>1.3</td>\n",
              "      <td>0.2</td>\n",
              "      <td>Iris-setosa</td>\n",
              "    </tr>\n",
              "    <tr>\n",
              "      <th>3</th>\n",
              "      <td>4</td>\n",
              "      <td>4.6</td>\n",
              "      <td>3.1</td>\n",
              "      <td>1.5</td>\n",
              "      <td>0.2</td>\n",
              "      <td>Iris-setosa</td>\n",
              "    </tr>\n",
              "    <tr>\n",
              "      <th>4</th>\n",
              "      <td>5</td>\n",
              "      <td>5.0</td>\n",
              "      <td>3.6</td>\n",
              "      <td>1.4</td>\n",
              "      <td>0.2</td>\n",
              "      <td>Iris-setosa</td>\n",
              "    </tr>\n",
              "  </tbody>\n",
              "</table>\n",
              "</div>"
            ],
            "text/plain": [
              "   Id  SepalLengthCm  SepalWidthCm  PetalLengthCm  PetalWidthCm      Species\n",
              "0   1            5.1           3.5            1.4           0.2  Iris-setosa\n",
              "1   2            4.9           3.0            1.4           0.2  Iris-setosa\n",
              "2   3            4.7           3.2            1.3           0.2  Iris-setosa\n",
              "3   4            4.6           3.1            1.5           0.2  Iris-setosa\n",
              "4   5            5.0           3.6            1.4           0.2  Iris-setosa"
            ]
          },
          "metadata": {
            "tags": []
          },
          "execution_count": 6
        }
      ]
    },
    {
      "cell_type": "code",
      "metadata": {
        "id": "QSbYHeoY-cOa"
      },
      "source": [
        "#assigning feaatures and target\n",
        "X = dataset.iloc[:, 1:-1].values  \n",
        "y = dataset.iloc[:, -1].values"
      ],
      "execution_count": null,
      "outputs": []
    },
    {
      "cell_type": "code",
      "metadata": {
        "colab": {
          "base_uri": "https://localhost:8080/"
        },
        "id": "UJ1rATQf_BZC",
        "outputId": "8eb9eb1b-1d79-4dc3-bc5e-e5b6a2782acd"
      },
      "source": [
        "#training decision tree\n",
        "from sklearn.tree import DecisionTreeClassifier\n",
        "classifier = DecisionTreeClassifier(criterion = 'entropy', random_state = 0)\n",
        "clf=classifier.fit(X, y)\n",
        "clf"
      ],
      "execution_count": null,
      "outputs": [
        {
          "output_type": "execute_result",
          "data": {
            "text/plain": [
              "DecisionTreeClassifier(ccp_alpha=0.0, class_weight=None, criterion='entropy',\n",
              "                       max_depth=None, max_features=None, max_leaf_nodes=None,\n",
              "                       min_impurity_decrease=0.0, min_impurity_split=None,\n",
              "                       min_samples_leaf=1, min_samples_split=2,\n",
              "                       min_weight_fraction_leaf=0.0, presort='deprecated',\n",
              "                       random_state=0, splitter='best')"
            ]
          },
          "metadata": {
            "tags": []
          },
          "execution_count": 8
        }
      ]
    },
    {
      "cell_type": "code",
      "metadata": {
        "colab": {
          "base_uri": "https://localhost:8080/",
          "height": 796
        },
        "id": "l_fWEzhg_pKu",
        "outputId": "6bbb5aa7-bebd-4d72-d855-f85d5f4e38c2"
      },
      "source": [
        "import graphviz\n",
        "from sklearn.tree import export_graphviz\n",
        "from IPython.display import display\n",
        "features=['SepalLength','SepalWidth','PetalLength','PetalWidth']\n",
        "display(graphviz.Source(export_graphviz(clf, feature_names=features, filled=True, rounded=True, special_characters=True)))"
      ],
      "execution_count": null,
      "outputs": [
        {
          "output_type": "display_data",
          "data": {
            "text/plain": [
              "<graphviz.files.Source at 0x7fa6f1901cd0>"
            ],
            "image/svg+xml": "<?xml version=\"1.0\" encoding=\"UTF-8\" standalone=\"no\"?>\n<!DOCTYPE svg PUBLIC \"-//W3C//DTD SVG 1.1//EN\"\n \"http://www.w3.org/Graphics/SVG/1.1/DTD/svg11.dtd\">\n<!-- Generated by graphviz version 2.40.1 (20161225.0304)\n -->\n<!-- Title: Tree Pages: 1 -->\n<svg width=\"834pt\" height=\"581pt\"\n viewBox=\"0.00 0.00 834.00 581.00\" xmlns=\"http://www.w3.org/2000/svg\" xmlns:xlink=\"http://www.w3.org/1999/xlink\">\n<g id=\"graph0\" class=\"graph\" transform=\"scale(1 1) rotate(0) translate(4 577)\">\n<title>Tree</title>\n<polygon fill=\"#ffffff\" stroke=\"transparent\" points=\"-4,4 -4,-577 830,-577 830,4 -4,4\"/>\n<!-- 0 -->\n<g id=\"node1\" class=\"node\">\n<title>0</title>\n<path fill=\"#ffffff\" stroke=\"#000000\" d=\"M498.5,-573C498.5,-573 382.5,-573 382.5,-573 376.5,-573 370.5,-567 370.5,-561 370.5,-561 370.5,-517 370.5,-517 370.5,-511 376.5,-505 382.5,-505 382.5,-505 498.5,-505 498.5,-505 504.5,-505 510.5,-511 510.5,-517 510.5,-517 510.5,-561 510.5,-561 510.5,-567 504.5,-573 498.5,-573\"/>\n<text text-anchor=\"start\" x=\"387.5\" y=\"-557.8\" font-family=\"Helvetica,sans-Serif\" font-size=\"14.00\" fill=\"#000000\">PetalWidth ≤ 0.8</text>\n<text text-anchor=\"start\" x=\"389.5\" y=\"-542.8\" font-family=\"Helvetica,sans-Serif\" font-size=\"14.00\" fill=\"#000000\">entropy = 1.585</text>\n<text text-anchor=\"start\" x=\"392.5\" y=\"-527.8\" font-family=\"Helvetica,sans-Serif\" font-size=\"14.00\" fill=\"#000000\">samples = 150</text>\n<text text-anchor=\"start\" x=\"378.5\" y=\"-512.8\" font-family=\"Helvetica,sans-Serif\" font-size=\"14.00\" fill=\"#000000\">value = [50, 50, 50]</text>\n</g>\n<!-- 1 -->\n<g id=\"node2\" class=\"node\">\n<title>1</title>\n<path fill=\"#e58139\" stroke=\"#000000\" d=\"M418,-461.5C418,-461.5 319,-461.5 319,-461.5 313,-461.5 307,-455.5 307,-449.5 307,-449.5 307,-420.5 307,-420.5 307,-414.5 313,-408.5 319,-408.5 319,-408.5 418,-408.5 418,-408.5 424,-408.5 430,-414.5 430,-420.5 430,-420.5 430,-449.5 430,-449.5 430,-455.5 424,-461.5 418,-461.5\"/>\n<text text-anchor=\"start\" x=\"326\" y=\"-446.3\" font-family=\"Helvetica,sans-Serif\" font-size=\"14.00\" fill=\"#000000\">entropy = 0.0</text>\n<text text-anchor=\"start\" x=\"324.5\" y=\"-431.3\" font-family=\"Helvetica,sans-Serif\" font-size=\"14.00\" fill=\"#000000\">samples = 50</text>\n<text text-anchor=\"start\" x=\"315\" y=\"-416.3\" font-family=\"Helvetica,sans-Serif\" font-size=\"14.00\" fill=\"#000000\">value = [50, 0, 0]</text>\n</g>\n<!-- 0&#45;&gt;1 -->\n<g id=\"edge1\" class=\"edge\">\n<title>0&#45;&gt;1</title>\n<path fill=\"none\" stroke=\"#000000\" d=\"M416.9245,-504.9465C409.1463,-493.7113 400.4861,-481.2021 392.6645,-469.9043\"/>\n<polygon fill=\"#000000\" stroke=\"#000000\" points=\"395.4452,-467.7719 386.8753,-461.5422 389.6898,-471.7564 395.4452,-467.7719\"/>\n<text text-anchor=\"middle\" x=\"382.4032\" y=\"-482.4389\" font-family=\"Helvetica,sans-Serif\" font-size=\"14.00\" fill=\"#000000\">True</text>\n</g>\n<!-- 2 -->\n<g id=\"node3\" class=\"node\">\n<title>2</title>\n<path fill=\"#ffffff\" stroke=\"#000000\" d=\"M567,-469C567,-469 460,-469 460,-469 454,-469 448,-463 448,-457 448,-457 448,-413 448,-413 448,-407 454,-401 460,-401 460,-401 567,-401 567,-401 573,-401 579,-407 579,-413 579,-413 579,-457 579,-457 579,-463 573,-469 567,-469\"/>\n<text text-anchor=\"start\" x=\"456.5\" y=\"-453.8\" font-family=\"Helvetica,sans-Serif\" font-size=\"14.00\" fill=\"#000000\">PetalWidth ≤ 1.75</text>\n<text text-anchor=\"start\" x=\"471\" y=\"-438.8\" font-family=\"Helvetica,sans-Serif\" font-size=\"14.00\" fill=\"#000000\">entropy = 1.0</text>\n<text text-anchor=\"start\" x=\"465.5\" y=\"-423.8\" font-family=\"Helvetica,sans-Serif\" font-size=\"14.00\" fill=\"#000000\">samples = 100</text>\n<text text-anchor=\"start\" x=\"456\" y=\"-408.8\" font-family=\"Helvetica,sans-Serif\" font-size=\"14.00\" fill=\"#000000\">value = [0, 50, 50]</text>\n</g>\n<!-- 0&#45;&gt;2 -->\n<g id=\"edge2\" class=\"edge\">\n<title>0&#45;&gt;2</title>\n<path fill=\"none\" stroke=\"#000000\" d=\"M464.4029,-504.9465C470.5791,-496.1475 477.3038,-486.5672 483.739,-477.3993\"/>\n<polygon fill=\"#000000\" stroke=\"#000000\" points=\"486.6629,-479.3258 489.5434,-469.13 480.9334,-475.3041 486.6629,-479.3258\"/>\n<text text-anchor=\"middle\" x=\"493.8563\" y=\"-490.0552\" font-family=\"Helvetica,sans-Serif\" font-size=\"14.00\" fill=\"#000000\">False</text>\n</g>\n<!-- 3 -->\n<g id=\"node4\" class=\"node\">\n<title>3</title>\n<path fill=\"#4de88e\" stroke=\"#000000\" d=\"M462.5,-365C462.5,-365 348.5,-365 348.5,-365 342.5,-365 336.5,-359 336.5,-353 336.5,-353 336.5,-309 336.5,-309 336.5,-303 342.5,-297 348.5,-297 348.5,-297 462.5,-297 462.5,-297 468.5,-297 474.5,-303 474.5,-309 474.5,-309 474.5,-353 474.5,-353 474.5,-359 468.5,-365 462.5,-365\"/>\n<text text-anchor=\"start\" x=\"344.5\" y=\"-349.8\" font-family=\"Helvetica,sans-Serif\" font-size=\"14.00\" fill=\"#000000\">PetalLength ≤ 4.95</text>\n<text text-anchor=\"start\" x=\"354.5\" y=\"-334.8\" font-family=\"Helvetica,sans-Serif\" font-size=\"14.00\" fill=\"#000000\">entropy = 0.445</text>\n<text text-anchor=\"start\" x=\"361.5\" y=\"-319.8\" font-family=\"Helvetica,sans-Serif\" font-size=\"14.00\" fill=\"#000000\">samples = 54</text>\n<text text-anchor=\"start\" x=\"352\" y=\"-304.8\" font-family=\"Helvetica,sans-Serif\" font-size=\"14.00\" fill=\"#000000\">value = [0, 49, 5]</text>\n</g>\n<!-- 2&#45;&gt;3 -->\n<g id=\"edge3\" class=\"edge\">\n<title>2&#45;&gt;3</title>\n<path fill=\"none\" stroke=\"#000000\" d=\"M478.1368,-400.9465C468.6264,-391.7884 458.237,-381.7838 448.3665,-372.2788\"/>\n<polygon fill=\"#000000\" stroke=\"#000000\" points=\"450.5737,-369.5453 440.9427,-365.13 445.7182,-374.5876 450.5737,-369.5453\"/>\n</g>\n<!-- 12 -->\n<g id=\"node13\" class=\"node\">\n<title>12</title>\n<path fill=\"#843de6\" stroke=\"#000000\" d=\"M678.5,-365C678.5,-365 564.5,-365 564.5,-365 558.5,-365 552.5,-359 552.5,-353 552.5,-353 552.5,-309 552.5,-309 552.5,-303 558.5,-297 564.5,-297 564.5,-297 678.5,-297 678.5,-297 684.5,-297 690.5,-303 690.5,-309 690.5,-309 690.5,-353 690.5,-353 690.5,-359 684.5,-365 678.5,-365\"/>\n<text text-anchor=\"start\" x=\"560.5\" y=\"-349.8\" font-family=\"Helvetica,sans-Serif\" font-size=\"14.00\" fill=\"#000000\">PetalLength ≤ 4.85</text>\n<text text-anchor=\"start\" x=\"570.5\" y=\"-334.8\" font-family=\"Helvetica,sans-Serif\" font-size=\"14.00\" fill=\"#000000\">entropy = 0.151</text>\n<text text-anchor=\"start\" x=\"577.5\" y=\"-319.8\" font-family=\"Helvetica,sans-Serif\" font-size=\"14.00\" fill=\"#000000\">samples = 46</text>\n<text text-anchor=\"start\" x=\"568\" y=\"-304.8\" font-family=\"Helvetica,sans-Serif\" font-size=\"14.00\" fill=\"#000000\">value = [0, 1, 45]</text>\n</g>\n<!-- 2&#45;&gt;12 -->\n<g id=\"edge12\" class=\"edge\">\n<title>2&#45;&gt;12</title>\n<path fill=\"none\" stroke=\"#000000\" d=\"M548.8632,-400.9465C558.3736,-391.7884 568.763,-381.7838 578.6335,-372.2788\"/>\n<polygon fill=\"#000000\" stroke=\"#000000\" points=\"581.2818,-374.5876 586.0573,-365.13 576.4263,-369.5453 581.2818,-374.5876\"/>\n</g>\n<!-- 4 -->\n<g id=\"node5\" class=\"node\">\n<title>4</title>\n<path fill=\"#3de684\" stroke=\"#000000\" d=\"M251.5,-261C251.5,-261 145.5,-261 145.5,-261 139.5,-261 133.5,-255 133.5,-249 133.5,-249 133.5,-205 133.5,-205 133.5,-199 139.5,-193 145.5,-193 145.5,-193 251.5,-193 251.5,-193 257.5,-193 263.5,-199 263.5,-205 263.5,-205 263.5,-249 263.5,-249 263.5,-255 257.5,-261 251.5,-261\"/>\n<text text-anchor=\"start\" x=\"141.5\" y=\"-245.8\" font-family=\"Helvetica,sans-Serif\" font-size=\"14.00\" fill=\"#000000\">PetalWidth ≤ 1.65</text>\n<text text-anchor=\"start\" x=\"147.5\" y=\"-230.8\" font-family=\"Helvetica,sans-Serif\" font-size=\"14.00\" fill=\"#000000\">entropy = 0.146</text>\n<text text-anchor=\"start\" x=\"154.5\" y=\"-215.8\" font-family=\"Helvetica,sans-Serif\" font-size=\"14.00\" fill=\"#000000\">samples = 48</text>\n<text text-anchor=\"start\" x=\"145\" y=\"-200.8\" font-family=\"Helvetica,sans-Serif\" font-size=\"14.00\" fill=\"#000000\">value = [0, 47, 1]</text>\n</g>\n<!-- 3&#45;&gt;4 -->\n<g id=\"edge4\" class=\"edge\">\n<title>3&#45;&gt;4</title>\n<path fill=\"none\" stroke=\"#000000\" d=\"M337.7205,-296.9465C316.8799,-286.4759 293.8369,-274.8987 272.5957,-264.2268\"/>\n<polygon fill=\"#000000\" stroke=\"#000000\" points=\"274.1213,-261.0764 263.6144,-259.7145 270.9787,-267.3314 274.1213,-261.0764\"/>\n</g>\n<!-- 7 -->\n<g id=\"node8\" class=\"node\">\n<title>7</title>\n<path fill=\"#c09cf2\" stroke=\"#000000\" d=\"M458.5,-261C458.5,-261 352.5,-261 352.5,-261 346.5,-261 340.5,-255 340.5,-249 340.5,-249 340.5,-205 340.5,-205 340.5,-199 346.5,-193 352.5,-193 352.5,-193 458.5,-193 458.5,-193 464.5,-193 470.5,-199 470.5,-205 470.5,-205 470.5,-249 470.5,-249 470.5,-255 464.5,-261 458.5,-261\"/>\n<text text-anchor=\"start\" x=\"348.5\" y=\"-245.8\" font-family=\"Helvetica,sans-Serif\" font-size=\"14.00\" fill=\"#000000\">PetalWidth ≤ 1.55</text>\n<text text-anchor=\"start\" x=\"354.5\" y=\"-230.8\" font-family=\"Helvetica,sans-Serif\" font-size=\"14.00\" fill=\"#000000\">entropy = 0.918</text>\n<text text-anchor=\"start\" x=\"366\" y=\"-215.8\" font-family=\"Helvetica,sans-Serif\" font-size=\"14.00\" fill=\"#000000\">samples = 6</text>\n<text text-anchor=\"start\" x=\"356\" y=\"-200.8\" font-family=\"Helvetica,sans-Serif\" font-size=\"14.00\" fill=\"#000000\">value = [0, 2, 4]</text>\n</g>\n<!-- 3&#45;&gt;7 -->\n<g id=\"edge7\" class=\"edge\">\n<title>3&#45;&gt;7</title>\n<path fill=\"none\" stroke=\"#000000\" d=\"M405.5,-296.9465C405.5,-288.776 405.5,-279.9318 405.5,-271.3697\"/>\n<polygon fill=\"#000000\" stroke=\"#000000\" points=\"409.0001,-271.13 405.5,-261.13 402.0001,-271.13 409.0001,-271.13\"/>\n</g>\n<!-- 5 -->\n<g id=\"node6\" class=\"node\">\n<title>5</title>\n<path fill=\"#39e581\" stroke=\"#000000\" d=\"M111,-149.5C111,-149.5 12,-149.5 12,-149.5 6,-149.5 0,-143.5 0,-137.5 0,-137.5 0,-108.5 0,-108.5 0,-102.5 6,-96.5 12,-96.5 12,-96.5 111,-96.5 111,-96.5 117,-96.5 123,-102.5 123,-108.5 123,-108.5 123,-137.5 123,-137.5 123,-143.5 117,-149.5 111,-149.5\"/>\n<text text-anchor=\"start\" x=\"19\" y=\"-134.3\" font-family=\"Helvetica,sans-Serif\" font-size=\"14.00\" fill=\"#000000\">entropy = 0.0</text>\n<text text-anchor=\"start\" x=\"17.5\" y=\"-119.3\" font-family=\"Helvetica,sans-Serif\" font-size=\"14.00\" fill=\"#000000\">samples = 47</text>\n<text text-anchor=\"start\" x=\"8\" y=\"-104.3\" font-family=\"Helvetica,sans-Serif\" font-size=\"14.00\" fill=\"#000000\">value = [0, 47, 0]</text>\n</g>\n<!-- 4&#45;&gt;5 -->\n<g id=\"edge5\" class=\"edge\">\n<title>4&#45;&gt;5</title>\n<path fill=\"none\" stroke=\"#000000\" d=\"M153.6411,-192.9465C137.8252,-180.9403 120.0927,-167.4791 104.4393,-155.5962\"/>\n<polygon fill=\"#000000\" stroke=\"#000000\" points=\"106.5455,-152.8009 96.4642,-149.5422 102.3129,-158.3764 106.5455,-152.8009\"/>\n</g>\n<!-- 6 -->\n<g id=\"node7\" class=\"node\">\n<title>6</title>\n<path fill=\"#8139e5\" stroke=\"#000000\" d=\"M244,-149.5C244,-149.5 153,-149.5 153,-149.5 147,-149.5 141,-143.5 141,-137.5 141,-137.5 141,-108.5 141,-108.5 141,-102.5 147,-96.5 153,-96.5 153,-96.5 244,-96.5 244,-96.5 250,-96.5 256,-102.5 256,-108.5 256,-108.5 256,-137.5 256,-137.5 256,-143.5 250,-149.5 244,-149.5\"/>\n<text text-anchor=\"start\" x=\"156\" y=\"-134.3\" font-family=\"Helvetica,sans-Serif\" font-size=\"14.00\" fill=\"#000000\">entropy = 0.0</text>\n<text text-anchor=\"start\" x=\"159\" y=\"-119.3\" font-family=\"Helvetica,sans-Serif\" font-size=\"14.00\" fill=\"#000000\">samples = 1</text>\n<text text-anchor=\"start\" x=\"149\" y=\"-104.3\" font-family=\"Helvetica,sans-Serif\" font-size=\"14.00\" fill=\"#000000\">value = [0, 0, 1]</text>\n</g>\n<!-- 4&#45;&gt;6 -->\n<g id=\"edge6\" class=\"edge\">\n<title>4&#45;&gt;6</title>\n<path fill=\"none\" stroke=\"#000000\" d=\"M198.5,-192.9465C198.5,-182.2621 198.5,-170.4254 198.5,-159.5742\"/>\n<polygon fill=\"#000000\" stroke=\"#000000\" points=\"202.0001,-159.5421 198.5,-149.5422 195.0001,-159.5422 202.0001,-159.5421\"/>\n</g>\n<!-- 8 -->\n<g id=\"node9\" class=\"node\">\n<title>8</title>\n<path fill=\"#8139e5\" stroke=\"#000000\" d=\"M377,-149.5C377,-149.5 286,-149.5 286,-149.5 280,-149.5 274,-143.5 274,-137.5 274,-137.5 274,-108.5 274,-108.5 274,-102.5 280,-96.5 286,-96.5 286,-96.5 377,-96.5 377,-96.5 383,-96.5 389,-102.5 389,-108.5 389,-108.5 389,-137.5 389,-137.5 389,-143.5 383,-149.5 377,-149.5\"/>\n<text text-anchor=\"start\" x=\"289\" y=\"-134.3\" font-family=\"Helvetica,sans-Serif\" font-size=\"14.00\" fill=\"#000000\">entropy = 0.0</text>\n<text text-anchor=\"start\" x=\"292\" y=\"-119.3\" font-family=\"Helvetica,sans-Serif\" font-size=\"14.00\" fill=\"#000000\">samples = 3</text>\n<text text-anchor=\"start\" x=\"282\" y=\"-104.3\" font-family=\"Helvetica,sans-Serif\" font-size=\"14.00\" fill=\"#000000\">value = [0, 0, 3]</text>\n</g>\n<!-- 7&#45;&gt;8 -->\n<g id=\"edge8\" class=\"edge\">\n<title>7&#45;&gt;8</title>\n<path fill=\"none\" stroke=\"#000000\" d=\"M381.2696,-192.9465C373.2754,-181.7113 364.3746,-169.2021 356.3358,-157.9043\"/>\n<polygon fill=\"#000000\" stroke=\"#000000\" points=\"359.0351,-155.6609 350.3858,-149.5422 353.3316,-159.7192 359.0351,-155.6609\"/>\n</g>\n<!-- 9 -->\n<g id=\"node10\" class=\"node\">\n<title>9</title>\n<path fill=\"#9cf2c0\" stroke=\"#000000\" d=\"M533.5,-157C533.5,-157 419.5,-157 419.5,-157 413.5,-157 407.5,-151 407.5,-145 407.5,-145 407.5,-101 407.5,-101 407.5,-95 413.5,-89 419.5,-89 419.5,-89 533.5,-89 533.5,-89 539.5,-89 545.5,-95 545.5,-101 545.5,-101 545.5,-145 545.5,-145 545.5,-151 539.5,-157 533.5,-157\"/>\n<text text-anchor=\"start\" x=\"415.5\" y=\"-141.8\" font-family=\"Helvetica,sans-Serif\" font-size=\"14.00\" fill=\"#000000\">PetalLength ≤ 5.45</text>\n<text text-anchor=\"start\" x=\"425.5\" y=\"-126.8\" font-family=\"Helvetica,sans-Serif\" font-size=\"14.00\" fill=\"#000000\">entropy = 0.918</text>\n<text text-anchor=\"start\" x=\"437\" y=\"-111.8\" font-family=\"Helvetica,sans-Serif\" font-size=\"14.00\" fill=\"#000000\">samples = 3</text>\n<text text-anchor=\"start\" x=\"427\" y=\"-96.8\" font-family=\"Helvetica,sans-Serif\" font-size=\"14.00\" fill=\"#000000\">value = [0, 2, 1]</text>\n</g>\n<!-- 7&#45;&gt;9 -->\n<g id=\"edge9\" class=\"edge\">\n<title>7&#45;&gt;9</title>\n<path fill=\"none\" stroke=\"#000000\" d=\"M428.7481,-192.9465C434.755,-184.1475 441.2955,-174.5672 447.5543,-165.3993\"/>\n<polygon fill=\"#000000\" stroke=\"#000000\" points=\"450.452,-167.3623 453.1997,-157.13 444.6707,-163.4155 450.452,-167.3623\"/>\n</g>\n<!-- 10 -->\n<g id=\"node11\" class=\"node\">\n<title>10</title>\n<path fill=\"#39e581\" stroke=\"#000000\" d=\"M455,-53C455,-53 364,-53 364,-53 358,-53 352,-47 352,-41 352,-41 352,-12 352,-12 352,-6 358,0 364,0 364,0 455,0 455,0 461,0 467,-6 467,-12 467,-12 467,-41 467,-41 467,-47 461,-53 455,-53\"/>\n<text text-anchor=\"start\" x=\"367\" y=\"-37.8\" font-family=\"Helvetica,sans-Serif\" font-size=\"14.00\" fill=\"#000000\">entropy = 0.0</text>\n<text text-anchor=\"start\" x=\"370\" y=\"-22.8\" font-family=\"Helvetica,sans-Serif\" font-size=\"14.00\" fill=\"#000000\">samples = 2</text>\n<text text-anchor=\"start\" x=\"360\" y=\"-7.8\" font-family=\"Helvetica,sans-Serif\" font-size=\"14.00\" fill=\"#000000\">value = [0, 2, 0]</text>\n</g>\n<!-- 9&#45;&gt;10 -->\n<g id=\"edge10\" class=\"edge\">\n<title>9&#45;&gt;10</title>\n<path fill=\"none\" stroke=\"#000000\" d=\"M452.8783,-88.9777C446.7113,-80.0954 440.0539,-70.5067 433.8499,-61.5711\"/>\n<polygon fill=\"#000000\" stroke=\"#000000\" points=\"436.6497,-59.4666 428.0715,-53.2485 430.8997,-63.4589 436.6497,-59.4666\"/>\n</g>\n<!-- 11 -->\n<g id=\"node12\" class=\"node\">\n<title>11</title>\n<path fill=\"#8139e5\" stroke=\"#000000\" d=\"M588,-53C588,-53 497,-53 497,-53 491,-53 485,-47 485,-41 485,-41 485,-12 485,-12 485,-6 491,0 497,0 497,0 588,0 588,0 594,0 600,-6 600,-12 600,-12 600,-41 600,-41 600,-47 594,-53 588,-53\"/>\n<text text-anchor=\"start\" x=\"500\" y=\"-37.8\" font-family=\"Helvetica,sans-Serif\" font-size=\"14.00\" fill=\"#000000\">entropy = 0.0</text>\n<text text-anchor=\"start\" x=\"503\" y=\"-22.8\" font-family=\"Helvetica,sans-Serif\" font-size=\"14.00\" fill=\"#000000\">samples = 1</text>\n<text text-anchor=\"start\" x=\"493\" y=\"-7.8\" font-family=\"Helvetica,sans-Serif\" font-size=\"14.00\" fill=\"#000000\">value = [0, 0, 1]</text>\n</g>\n<!-- 9&#45;&gt;11 -->\n<g id=\"edge11\" class=\"edge\">\n<title>9&#45;&gt;11</title>\n<path fill=\"none\" stroke=\"#000000\" d=\"M499.7691,-88.9777C505.844,-80.0954 512.4021,-70.5067 518.5135,-61.5711\"/>\n<polygon fill=\"#000000\" stroke=\"#000000\" points=\"521.4493,-63.4785 524.2057,-53.2485 515.6714,-59.5267 521.4493,-63.4785\"/>\n</g>\n<!-- 13 -->\n<g id=\"node14\" class=\"node\">\n<title>13</title>\n<path fill=\"#c09cf2\" stroke=\"#000000\" d=\"M672.5,-261C672.5,-261 570.5,-261 570.5,-261 564.5,-261 558.5,-255 558.5,-249 558.5,-249 558.5,-205 558.5,-205 558.5,-199 564.5,-193 570.5,-193 570.5,-193 672.5,-193 672.5,-193 678.5,-193 684.5,-199 684.5,-205 684.5,-205 684.5,-249 684.5,-249 684.5,-255 678.5,-261 672.5,-261\"/>\n<text text-anchor=\"start\" x=\"566.5\" y=\"-245.8\" font-family=\"Helvetica,sans-Serif\" font-size=\"14.00\" fill=\"#000000\">SepalWidth ≤ 3.1</text>\n<text text-anchor=\"start\" x=\"570.5\" y=\"-230.8\" font-family=\"Helvetica,sans-Serif\" font-size=\"14.00\" fill=\"#000000\">entropy = 0.918</text>\n<text text-anchor=\"start\" x=\"582\" y=\"-215.8\" font-family=\"Helvetica,sans-Serif\" font-size=\"14.00\" fill=\"#000000\">samples = 3</text>\n<text text-anchor=\"start\" x=\"572\" y=\"-200.8\" font-family=\"Helvetica,sans-Serif\" font-size=\"14.00\" fill=\"#000000\">value = [0, 1, 2]</text>\n</g>\n<!-- 12&#45;&gt;13 -->\n<g id=\"edge13\" class=\"edge\">\n<title>12&#45;&gt;13</title>\n<path fill=\"none\" stroke=\"#000000\" d=\"M621.5,-296.9465C621.5,-288.776 621.5,-279.9318 621.5,-271.3697\"/>\n<polygon fill=\"#000000\" stroke=\"#000000\" points=\"625.0001,-271.13 621.5,-261.13 618.0001,-271.13 625.0001,-271.13\"/>\n</g>\n<!-- 16 -->\n<g id=\"node17\" class=\"node\">\n<title>16</title>\n<path fill=\"#8139e5\" stroke=\"#000000\" d=\"M814,-253.5C814,-253.5 715,-253.5 715,-253.5 709,-253.5 703,-247.5 703,-241.5 703,-241.5 703,-212.5 703,-212.5 703,-206.5 709,-200.5 715,-200.5 715,-200.5 814,-200.5 814,-200.5 820,-200.5 826,-206.5 826,-212.5 826,-212.5 826,-241.5 826,-241.5 826,-247.5 820,-253.5 814,-253.5\"/>\n<text text-anchor=\"start\" x=\"722\" y=\"-238.3\" font-family=\"Helvetica,sans-Serif\" font-size=\"14.00\" fill=\"#000000\">entropy = 0.0</text>\n<text text-anchor=\"start\" x=\"720.5\" y=\"-223.3\" font-family=\"Helvetica,sans-Serif\" font-size=\"14.00\" fill=\"#000000\">samples = 43</text>\n<text text-anchor=\"start\" x=\"711\" y=\"-208.3\" font-family=\"Helvetica,sans-Serif\" font-size=\"14.00\" fill=\"#000000\">value = [0, 0, 43]</text>\n</g>\n<!-- 12&#45;&gt;16 -->\n<g id=\"edge16\" class=\"edge\">\n<title>12&#45;&gt;16</title>\n<path fill=\"none\" stroke=\"#000000\" d=\"M668.3235,-296.9465C684.8321,-284.9403 703.3412,-271.4791 719.6802,-259.5962\"/>\n<polygon fill=\"#000000\" stroke=\"#000000\" points=\"721.9758,-262.2545 728.0045,-253.5422 717.8585,-256.5933 721.9758,-262.2545\"/>\n</g>\n<!-- 14 -->\n<g id=\"node15\" class=\"node\">\n<title>14</title>\n<path fill=\"#8139e5\" stroke=\"#000000\" d=\"M667,-149.5C667,-149.5 576,-149.5 576,-149.5 570,-149.5 564,-143.5 564,-137.5 564,-137.5 564,-108.5 564,-108.5 564,-102.5 570,-96.5 576,-96.5 576,-96.5 667,-96.5 667,-96.5 673,-96.5 679,-102.5 679,-108.5 679,-108.5 679,-137.5 679,-137.5 679,-143.5 673,-149.5 667,-149.5\"/>\n<text text-anchor=\"start\" x=\"579\" y=\"-134.3\" font-family=\"Helvetica,sans-Serif\" font-size=\"14.00\" fill=\"#000000\">entropy = 0.0</text>\n<text text-anchor=\"start\" x=\"582\" y=\"-119.3\" font-family=\"Helvetica,sans-Serif\" font-size=\"14.00\" fill=\"#000000\">samples = 2</text>\n<text text-anchor=\"start\" x=\"572\" y=\"-104.3\" font-family=\"Helvetica,sans-Serif\" font-size=\"14.00\" fill=\"#000000\">value = [0, 0, 2]</text>\n</g>\n<!-- 13&#45;&gt;14 -->\n<g id=\"edge14\" class=\"edge\">\n<title>13&#45;&gt;14</title>\n<path fill=\"none\" stroke=\"#000000\" d=\"M621.5,-192.9465C621.5,-182.2621 621.5,-170.4254 621.5,-159.5742\"/>\n<polygon fill=\"#000000\" stroke=\"#000000\" points=\"625.0001,-159.5421 621.5,-149.5422 618.0001,-159.5422 625.0001,-159.5421\"/>\n</g>\n<!-- 15 -->\n<g id=\"node16\" class=\"node\">\n<title>15</title>\n<path fill=\"#39e581\" stroke=\"#000000\" d=\"M800,-149.5C800,-149.5 709,-149.5 709,-149.5 703,-149.5 697,-143.5 697,-137.5 697,-137.5 697,-108.5 697,-108.5 697,-102.5 703,-96.5 709,-96.5 709,-96.5 800,-96.5 800,-96.5 806,-96.5 812,-102.5 812,-108.5 812,-108.5 812,-137.5 812,-137.5 812,-143.5 806,-149.5 800,-149.5\"/>\n<text text-anchor=\"start\" x=\"712\" y=\"-134.3\" font-family=\"Helvetica,sans-Serif\" font-size=\"14.00\" fill=\"#000000\">entropy = 0.0</text>\n<text text-anchor=\"start\" x=\"715\" y=\"-119.3\" font-family=\"Helvetica,sans-Serif\" font-size=\"14.00\" fill=\"#000000\">samples = 1</text>\n<text text-anchor=\"start\" x=\"705\" y=\"-104.3\" font-family=\"Helvetica,sans-Serif\" font-size=\"14.00\" fill=\"#000000\">value = [0, 1, 0]</text>\n</g>\n<!-- 13&#45;&gt;15 -->\n<g id=\"edge15\" class=\"edge\">\n<title>13&#45;&gt;15</title>\n<path fill=\"none\" stroke=\"#000000\" d=\"M665.0492,-192.9465C680.2625,-181.0504 697.3023,-167.726 712.3957,-155.9237\"/>\n<polygon fill=\"#000000\" stroke=\"#000000\" points=\"714.8351,-158.4592 720.5567,-149.5422 710.5231,-152.9449 714.8351,-158.4592\"/>\n</g>\n</g>\n</svg>\n"
          },
          "metadata": {
            "tags": []
          }
        }
      ]
    }
  ]
}